{
 "cells": [
  {
   "cell_type": "markdown",
   "id": "4bad0d4d-5358-4fec-bfdc-ebae12d07e31",
   "metadata": {},
   "source": [
    "# Contexto\n",
    "\n",
    "Instruções\n",
    "\n",
    "Somos uma ong de animais e queremos incentivar a adoção de pets. Para isso, vamos mostrar um vídeo de animais para as pessoas. Porém, não sabemos o que é mais efetivo: um vídeo de cachorros ou um vídeo de gatos. \\\n",
    "Por isso, resolvemos rodar um experimento: vamos criar 2 vídeos, um de cachorro e outro de gato. Depois, vamos perguntar as pessoas a probabilidade de que ela adote um animal. \n",
    "- As pessoas desse experimento só verão 1 vídeo cada\n",
    "- Ao final do vídeo perguntamos a elas a probabilidade de que elas adotem um animal\n",
    "- As amostras são aleatorias e sem viéses sistematicos\n",
    "\n",
    "**Objetivo:** Avaliar qual animal (cachorro ou gato) deve estar em um vídeo de campanha de adoção\n",
    "\n",
    "Experimento: 500 pessoas que não possuem animais de estimação assistem aos vídeos de campanha de adoção. Os vídeos são idênticos com exceção dos animais mostrados:\n",
    "- 250 pessoas aleatorizadas para o vídeo com gato\n",
    "- 250 pessoas aleatorizadas para o vídeo com cachorro\n",
    "\n",
    "Resposta: \"Qual a chance de adotar um pet? (0-100)\" depois do vídeo\n",
    "\n",
    "A média de probabilidade de quem ve o vídeo de gato é igual a de cachorro?"
   ]
  },
  {
   "cell_type": "markdown",
   "id": "1436a23d-9386-4218-a7da-495d45c41fa2",
   "metadata": {},
   "source": [
    "# Bibliotecas"
   ]
  },
  {
   "cell_type": "code",
   "execution_count": 14,
   "id": "27d5255f-0cc1-4f31-bbd4-0e0fc3f424e7",
   "metadata": {},
   "outputs": [],
   "source": [
    "import pandas as pd\n",
    "import numpy as np\n",
    "import seaborn as sns\n",
    "from matplotlib import pyplot as plt\n",
    "import warnings\n",
    "warnings.filterwarnings(\"ignore\")\n",
    "from scipy.stats import skew\n",
    "from scipy import stats as st"
   ]
  },
  {
   "cell_type": "markdown",
   "id": "590aa30f-2f5e-4038-bc30-3c9ea0304d3d",
   "metadata": {},
   "source": [
    "# Dataset"
   ]
  },
  {
   "cell_type": "code",
   "execution_count": 2,
   "id": "08d4b67b-d669-4ae0-8d82-1c8b1e616295",
   "metadata": {},
   "outputs": [],
   "source": [
    "df = pd.read_csv(r'C:\\Users\\Andre\\EBA\\Aula-4\\bases\\cachorro_gato.csv')"
   ]
  },
  {
   "cell_type": "code",
   "execution_count": 3,
   "id": "53d12ad7-1c52-440b-ba78-65bad6aa02c0",
   "metadata": {},
   "outputs": [
    {
     "data": {
      "text/html": [
       "<div>\n",
       "<style scoped>\n",
       "    .dataframe tbody tr th:only-of-type {\n",
       "        vertical-align: middle;\n",
       "    }\n",
       "\n",
       "    .dataframe tbody tr th {\n",
       "        vertical-align: top;\n",
       "    }\n",
       "\n",
       "    .dataframe thead th {\n",
       "        text-align: right;\n",
       "    }\n",
       "</style>\n",
       "<table border=\"1\" class=\"dataframe\">\n",
       "  <thead>\n",
       "    <tr style=\"text-align: right;\">\n",
       "      <th></th>\n",
       "      <th>Unnamed: 0</th>\n",
       "      <th>grupo</th>\n",
       "      <th>escore</th>\n",
       "    </tr>\n",
       "  </thead>\n",
       "  <tbody>\n",
       "    <tr>\n",
       "      <th>0</th>\n",
       "      <td>0</td>\n",
       "      <td>1</td>\n",
       "      <td>59.853433</td>\n",
       "    </tr>\n",
       "    <tr>\n",
       "      <th>1</th>\n",
       "      <td>1</td>\n",
       "      <td>0</td>\n",
       "      <td>66.353529</td>\n",
       "    </tr>\n",
       "    <tr>\n",
       "      <th>2</th>\n",
       "      <td>2</td>\n",
       "      <td>1</td>\n",
       "      <td>56.495813</td>\n",
       "    </tr>\n",
       "    <tr>\n",
       "      <th>3</th>\n",
       "      <td>3</td>\n",
       "      <td>0</td>\n",
       "      <td>67.995090</td>\n",
       "    </tr>\n",
       "    <tr>\n",
       "      <th>4</th>\n",
       "      <td>4</td>\n",
       "      <td>1</td>\n",
       "      <td>70.434375</td>\n",
       "    </tr>\n",
       "    <tr>\n",
       "      <th>...</th>\n",
       "      <td>...</td>\n",
       "      <td>...</td>\n",
       "      <td>...</td>\n",
       "    </tr>\n",
       "    <tr>\n",
       "      <th>495</th>\n",
       "      <td>495</td>\n",
       "      <td>0</td>\n",
       "      <td>70.292458</td>\n",
       "    </tr>\n",
       "    <tr>\n",
       "      <th>496</th>\n",
       "      <td>496</td>\n",
       "      <td>0</td>\n",
       "      <td>74.674293</td>\n",
       "    </tr>\n",
       "    <tr>\n",
       "      <th>497</th>\n",
       "      <td>497</td>\n",
       "      <td>1</td>\n",
       "      <td>43.148814</td>\n",
       "    </tr>\n",
       "    <tr>\n",
       "      <th>498</th>\n",
       "      <td>498</td>\n",
       "      <td>0</td>\n",
       "      <td>58.625388</td>\n",
       "    </tr>\n",
       "    <tr>\n",
       "      <th>499</th>\n",
       "      <td>499</td>\n",
       "      <td>0</td>\n",
       "      <td>38.126324</td>\n",
       "    </tr>\n",
       "  </tbody>\n",
       "</table>\n",
       "<p>500 rows × 3 columns</p>\n",
       "</div>"
      ],
      "text/plain": [
       "     Unnamed: 0  grupo     escore\n",
       "0             0      1  59.853433\n",
       "1             1      0  66.353529\n",
       "2             2      1  56.495813\n",
       "3             3      0  67.995090\n",
       "4             4      1  70.434375\n",
       "..          ...    ...        ...\n",
       "495         495      0  70.292458\n",
       "496         496      0  74.674293\n",
       "497         497      1  43.148814\n",
       "498         498      0  58.625388\n",
       "499         499      0  38.126324\n",
       "\n",
       "[500 rows x 3 columns]"
      ]
     },
     "execution_count": 3,
     "metadata": {},
     "output_type": "execute_result"
    }
   ],
   "source": [
    "df"
   ]
  },
  {
   "cell_type": "code",
   "execution_count": 4,
   "id": "47a1100e-a486-4bc5-a050-3f069ff0d8ee",
   "metadata": {},
   "outputs": [
    {
     "data": {
      "image/png": "[encoded data removed]",
      "text/plain": [
       "<Figure size 640x480 with 1 Axes>"
      ]
     },
     "metadata": {},
     "output_type": "display_data"
    }
   ],
   "source": [
    "ax = sns.countplot(x=df[\"grupo\"])\n",
    "\n",
    "for p in ax.patches:\n",
    "    height = p.get_height()\n",
    "    ax.text(p.get_x()+p.get_width()/2.,\n",
    "    height + 3,\n",
    "    '{:1.2f}'.format((height)),\n",
    "    ha='center')"
   ]
  },
  {
   "cell_type": "markdown",
   "id": "ed8bb42e-b8f4-4df3-ace0-c065ed94a9ad",
   "metadata": {},
   "source": [
    "O grupo com 0 tem uma ligeira quantidade de dados a mais que talvez não implique nesse teste..."
   ]
  },
  {
   "cell_type": "markdown",
   "id": "552a6a4c-f3f0-4a5f-89c5-bf2a7dc76449",
   "metadata": {},
   "source": [
    "1 = Gato \\\n",
    "0 = Cachorro\n"
   ]
  },
  {
   "cell_type": "code",
   "execution_count": 5,
   "id": "16c536a9-41fe-42cb-a242-7aa75e5a945b",
   "metadata": {},
   "outputs": [
    {
     "data": {
      "text/html": [
       "<div>\n",
       "<style scoped>\n",
       "    .dataframe tbody tr th:only-of-type {\n",
       "        vertical-align: middle;\n",
       "    }\n",
       "\n",
       "    .dataframe tbody tr th {\n",
       "        vertical-align: top;\n",
       "    }\n",
       "\n",
       "    .dataframe thead tr th {\n",
       "        text-align: left;\n",
       "    }\n",
       "\n",
       "    .dataframe thead tr:last-of-type th {\n",
       "        text-align: right;\n",
       "    }\n",
       "</style>\n",
       "<table border=\"1\" class=\"dataframe\">\n",
       "  <thead>\n",
       "    <tr>\n",
       "      <th></th>\n",
       "      <th colspan=\"8\" halign=\"left\">Unnamed: 0</th>\n",
       "      <th colspan=\"8\" halign=\"left\">escore</th>\n",
       "    </tr>\n",
       "    <tr>\n",
       "      <th></th>\n",
       "      <th>count</th>\n",
       "      <th>mean</th>\n",
       "      <th>std</th>\n",
       "      <th>min</th>\n",
       "      <th>25%</th>\n",
       "      <th>50%</th>\n",
       "      <th>75%</th>\n",
       "      <th>max</th>\n",
       "      <th>count</th>\n",
       "      <th>mean</th>\n",
       "      <th>std</th>\n",
       "      <th>min</th>\n",
       "      <th>25%</th>\n",
       "      <th>50%</th>\n",
       "      <th>75%</th>\n",
       "      <th>max</th>\n",
       "    </tr>\n",
       "    <tr>\n",
       "      <th>grupo</th>\n",
       "      <th></th>\n",
       "      <th></th>\n",
       "      <th></th>\n",
       "      <th></th>\n",
       "      <th></th>\n",
       "      <th></th>\n",
       "      <th></th>\n",
       "      <th></th>\n",
       "      <th></th>\n",
       "      <th></th>\n",
       "      <th></th>\n",
       "      <th></th>\n",
       "      <th></th>\n",
       "      <th></th>\n",
       "      <th></th>\n",
       "      <th></th>\n",
       "    </tr>\n",
       "  </thead>\n",
       "  <tbody>\n",
       "    <tr>\n",
       "      <th>0</th>\n",
       "      <td>253.0</td>\n",
       "      <td>247.470356</td>\n",
       "      <td>147.772334</td>\n",
       "      <td>1.0</td>\n",
       "      <td>117.0</td>\n",
       "      <td>256.0</td>\n",
       "      <td>366.0</td>\n",
       "      <td>499.0</td>\n",
       "      <td>253.0</td>\n",
       "      <td>55.531922</td>\n",
       "      <td>14.665402</td>\n",
       "      <td>16.304739</td>\n",
       "      <td>44.488055</td>\n",
       "      <td>55.802372</td>\n",
       "      <td>66.249013</td>\n",
       "      <td>95.309459</td>\n",
       "    </tr>\n",
       "    <tr>\n",
       "      <th>1</th>\n",
       "      <td>247.0</td>\n",
       "      <td>251.578947</td>\n",
       "      <td>141.301675</td>\n",
       "      <td>0.0</td>\n",
       "      <td>131.5</td>\n",
       "      <td>240.0</td>\n",
       "      <td>377.5</td>\n",
       "      <td>497.0</td>\n",
       "      <td>247.0</td>\n",
       "      <td>56.744495</td>\n",
       "      <td>14.913287</td>\n",
       "      <td>14.654955</td>\n",
       "      <td>48.682432</td>\n",
       "      <td>56.924405</td>\n",
       "      <td>66.817326</td>\n",
       "      <td>93.259671</td>\n",
       "    </tr>\n",
       "  </tbody>\n",
       "</table>\n",
       "</div>"
      ],
      "text/plain": [
       "      Unnamed: 0                                                           \\\n",
       "           count        mean         std  min    25%    50%    75%    max   \n",
       "grupo                                                                       \n",
       "0          253.0  247.470356  147.772334  1.0  117.0  256.0  366.0  499.0   \n",
       "1          247.0  251.578947  141.301675  0.0  131.5  240.0  377.5  497.0   \n",
       "\n",
       "      escore                                                         \\\n",
       "       count       mean        std        min        25%        50%   \n",
       "grupo                                                                 \n",
       "0      253.0  55.531922  14.665402  16.304739  44.488055  55.802372   \n",
       "1      247.0  56.744495  14.913287  14.654955  48.682432  56.924405   \n",
       "\n",
       "                             \n",
       "             75%        max  \n",
       "grupo                        \n",
       "0      66.249013  95.309459  \n",
       "1      66.817326  93.259671  "
      ]
     },
     "execution_count": 5,
     "metadata": {},
     "output_type": "execute_result"
    }
   ],
   "source": [
    "df.groupby('grupo').describe()"
   ]
  },
  {
   "cell_type": "markdown",
   "id": "d22b1014-4356-41e4-a256-0749fb129242",
   "metadata": {},
   "source": [
    "A média é pouca coisa maior e a mediana também..."
   ]
  },
  {
   "cell_type": "code",
   "execution_count": 6,
   "id": "13e33a6a-b728-47ae-ac8b-dfd7df08c0a5",
   "metadata": {},
   "outputs": [
    {
     "data": {
      "image/png": "[encoded data removed]",
      "text/plain": [
       "<Figure size 640x480 with 1 Axes>"
      ]
     },
     "metadata": {},
     "output_type": "display_data"
    }
   ],
   "source": [
    "sns.histplot(df[df['grupo'] == 0]['escore'], label = 'Cachorro', color = \"red\") #histograma grupo que viu o video de cachorro\n",
    "sns.histplot(df[df['grupo'] == 1]['escore'], label = 'Gato', color=\"blue\")  #histograma grupo que viu o video de gato\n",
    "plt.xlabel('Escore (0 a 100)')\n",
    "plt.legend()\n",
    "plt.show()"
   ]
  },
  {
   "cell_type": "code",
   "execution_count": 7,
   "id": "4b38ecb4-09e9-4d22-a667-a75d8648e538",
   "metadata": {},
   "outputs": [],
   "source": [
    "skewCachorro = skew(df['grupo'] == 0)\n",
    "skewGato = skew(df['grupo'] == 1)"
   ]
  },
  {
   "cell_type": "code",
   "execution_count": 8,
   "id": "3f81509c-da38-4998-8acb-dea01f9658a4",
   "metadata": {},
   "outputs": [
    {
     "data": {
      "text/plain": [
       "(-0.024001728186646445, 0.024001728186646445)"
      ]
     },
     "execution_count": 8,
     "metadata": {},
     "output_type": "execute_result"
    }
   ],
   "source": [
    "skewCachorro, skewGato"
   ]
  },
  {
   "cell_type": "markdown",
   "id": "9c802694-7f5c-4451-99e8-c12e8928075e",
   "metadata": {},
   "source": [
    "Aqui temos uma normal para ambos os casos como foi visto no gráfico, e para ficar melhor, vimos também a skewness dos dois casos."
   ]
  },
  {
   "cell_type": "markdown",
   "id": "677c759f-f242-49d1-8141-b23493d83b9e",
   "metadata": {},
   "source": [
    "H0: MediaGato = MediaCachorro \\\n",
    "Ha: MediaGato != MediaCachorro\n",
    "\n",
    "Teste bicaudal, isso significa que a média pode ser maior ou menor."
   ]
  },
  {
   "cell_type": "markdown",
   "id": "2584f45c-041f-47b6-b64a-a7d4eb47bdc9",
   "metadata": {},
   "source": [
    "# Vamos comparar as médias dos escores dos dois grupos. São estatisticamente diferentes?"
   ]
  },
  {
   "cell_type": "code",
   "execution_count": 9,
   "id": "e0b79452-0f9a-4120-93f2-2d8a86fe4465",
   "metadata": {},
   "outputs": [],
   "source": [
    "# Importando a função que realiza o teste-t para amostras independentes\n",
    "\n",
    "from scipy.stats import ttest_ind"
   ]
  },
  {
   "cell_type": "code",
   "execution_count": 10,
   "id": "c5a60983-b296-4eb1-b520-09b95eac28ea",
   "metadata": {},
   "outputs": [
    {
     "data": {
      "text/plain": [
       "TtestResult(statistic=-0.9166663411409343, pvalue=0.35976119585131083, df=498.0)"
      ]
     },
     "execution_count": 10,
     "metadata": {},
     "output_type": "execute_result"
    }
   ],
   "source": [
    "# a função retorna uma tupla. O primeiro valor é o valor do t e o segundo é o p-value\n",
    "\n",
    "ttest_ind(df[df['grupo'] == 0]['escore'], df[df['grupo'] == 1]['escore'])"
   ]
  },
  {
   "cell_type": "code",
   "execution_count": 11,
   "id": "d40571e1-4a74-4855-a7fa-25f60a49acca",
   "metadata": {},
   "outputs": [],
   "source": [
    "t, pvalue = ttest_ind(df[df['grupo'] == 0]['escore'], df[df['grupo'] == 1]['escore'])"
   ]
  },
  {
   "cell_type": "code",
   "execution_count": 12,
   "id": "7b9e2220-0a4f-44d9-82cd-ed42a3fdff28",
   "metadata": {},
   "outputs": [
    {
     "name": "stdout",
     "output_type": "stream",
     "text": [
      "stat=-0.917, p=0.360\n"
     ]
    }
   ],
   "source": [
    "print('stat=%.3f, p=%.3f' % (t, pvalue))"
   ]
  },
  {
   "cell_type": "markdown",
   "id": "d62d259b-ccbd-463f-b437-31dfdc304f90",
   "metadata": {},
   "source": [
    "O nosso p-valor aqui foi de 0.36.\n",
    "\n",
    "Estabelecendo o nível de significância como 5%, como p > 0,05, não temos evidencias suficientes para rejeitar a hipótese nula. Logo, dizemos que estatatisticamente as médias são iguais. Então, colocar um vídeo de um cachorro ou gato podem ter impactos identicos."
   ]
  }
 ],
 "metadata": {
  "kernelspec": {
   "display_name": "Python 3 (ipykernel)",
   "language": "python",
   "name": "python3"
  },
  "language_info": {
   "codemirror_mode": {
    "name": "ipython",
    "version": 3
   },
   "file_extension": ".py",
   "mimetype": "text/x-python",
   "name": "python",
   "nbconvert_exporter": "python",
   "pygments_lexer": "ipython3",
   "version": "3.11.7"
  }
 },
 "nbformat": 4,
 "nbformat_minor": 5
}
