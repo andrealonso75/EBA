{
 "cells": [
  {
   "cell_type": "markdown",
   "id": "8b003247-0463-4abb-adb2-cc61c21c3c9d",
   "metadata": {},
   "source": [
    "# Intervalo de confiança - Media"
   ]
  },
  {
   "cell_type": "code",
   "execution_count": 3,
   "id": "bbaf6a21-ccf3-4911-8642-de8f46396906",
   "metadata": {},
   "outputs": [],
   "source": [
    "import numpy as np\n",
    "import scipy.stats as st"
   ]
  },
  {
   "cell_type": "markdown",
   "id": "7f4b7868-67b5-4111-b7fa-677e62a8d4c1",
   "metadata": {},
   "source": [
    "## Dados"
   ]
  },
  {
   "cell_type": "markdown",
   "id": "d4ee82e6-a892-4139-b9ab-b27cdb3f483a",
   "metadata": {},
   "source": [
    "Devio padrão = 10 \\\n",
    "n = 16 \\\n",
    "confiança = 0.95 \\\n",
    "grau de liberdade = 15 "
   ]
  },
  {
   "cell_type": "code",
   "execution_count": 9,
   "id": "124c7a53-f8d7-4d29-a44e-746a4bcc3140",
   "metadata": {},
   "outputs": [],
   "source": [
    "# Calculando o erro padrão\n",
    "\n",
    "erro_padrao = 10/(16**0.5)"
   ]
  },
  {
   "cell_type": "code",
   "execution_count": 11,
   "id": "44f16c6d-2463-4d8b-88fc-3050a49c21e9",
   "metadata": {},
   "outputs": [
    {
     "ename": "TypeError",
     "evalue": "rv_generic.interval() missing 1 required positional argument: 'confidence'",
     "output_type": "error",
     "traceback": [
      "\u001b[1;31m---------------------------------------------------------------------------\u001b[0m",
      "\u001b[1;31mTypeError\u001b[0m                                 Traceback (most recent call last)",
      "Cell \u001b[1;32mIn[11], line 7\u001b[0m\n\u001b[0;32m      3\u001b[0m n \u001b[38;5;241m=\u001b[39m \u001b[38;5;241m16\u001b[39m \u001b[38;5;241m-\u001b[39m \u001b[38;5;241m1\u001b[39m\n\u001b[0;32m      5\u001b[0m \u001b[38;5;66;03m# Criando o intervalo\u001b[39;00m\n\u001b[1;32m----> 7\u001b[0m st\u001b[38;5;241m.\u001b[39mt\u001b[38;5;241m.\u001b[39minterval(alpha \u001b[38;5;241m=\u001b[39m\u001b[38;5;241m0.95\u001b[39m, \n\u001b[0;32m      8\u001b[0m               df\u001b[38;5;241m=\u001b[39mn,\n\u001b[0;32m      9\u001b[0m               loc\u001b[38;5;241m=\u001b[39m\u001b[38;5;241m162\u001b[39m,\n\u001b[0;32m     10\u001b[0m               scale\u001b[38;5;241m=\u001b[39merro_padrao)\n",
      "\u001b[1;31mTypeError\u001b[0m: rv_generic.interval() missing 1 required positional argument: 'confidence'"
     ]
    }
   ],
   "source": [
    "# Calculando o grau de liberdade \n",
    "\n",
    "n = 16 - 1\n",
    "\n",
    "# Criando o intervalo\n",
    "\n",
    "st.t.interval(alpha =0.95, \n",
    "              df=n,\n",
    "              loc=162,\n",
    "              scale=erro_padrao)\n",
    "\n",
    "# loc é a média e df é o grau de liberdade calculado acima"
   ]
  },
  {
   "cell_type": "markdown",
   "id": "2b6a56ac-9803-44c9-891f-9fd43fc57784",
   "metadata": {},
   "source": [
    "# Teste Z"
   ]
  },
  {
   "cell_type": "code",
   "execution_count": 1,
   "id": "fbef17f3-ee4f-4ed4-bb7d-e95e61d516bd",
   "metadata": {},
   "outputs": [],
   "source": [
    "from scipy.stats import norm"
   ]
  },
  {
   "cell_type": "markdown",
   "id": "2818d448-73bb-4c94-9c8f-dee97e0fb870",
   "metadata": {},
   "source": [
    "media = 12.9 \\\n",
    "desvio = 0.19 \\\n",
    "n = 32 \\\n",
    "x = 13 \\\n",
    "z = Descobrir"
   ]
  },
  {
   "cell_type": "code",
   "execution_count": 2,
   "id": "c0be3369-408d-46c0-89d6-62f12c5e361f",
   "metadata": {},
   "outputs": [
    {
     "data": {
      "text/plain": [
       "0.0014540358484991462"
      ]
     },
     "execution_count": 2,
     "metadata": {},
     "output_type": "execute_result"
    }
   ],
   "source": [
    "z = (12.9-13)/(0.19/(32**0.5))\n",
    "norm.cdf(z)"
   ]
  },
  {
   "cell_type": "markdown",
   "id": "1bac8ddf-fa96-4788-af42-8e82d925ecd3",
   "metadata": {},
   "source": [
    "## Caso tenha uma coluna com os valores e haja a necessidade de calcular tudo..."
   ]
  },
  {
   "cell_type": "code",
   "execution_count": null,
   "id": "bc79e0b4-0ee5-4516-8b86-a3e30e4bb4f3",
   "metadata": {},
   "outputs": [],
   "source": [
    "from statsmodels.stats.weighstats import zteste as ztest"
   ]
  },
  {
   "cell_type": "markdown",
   "id": "8e55190e-a84a-4bd2-b24f-25f261f41ec8",
   "metadata": {},
   "source": [
    "Exemplo\n",
    "\n",
    "data = df['amostras']\n",
    "\n",
    "ztest(data, value = 100)\n",
    "\n",
    "# Value é o valor que vai ser comparado\n",
    "\n",
    "Data = Xvalor\n",
    "p-valor = Yvalor"
   ]
  }
 ],
 "metadata": {
  "kernelspec": {
   "display_name": "Python 3 (ipykernel)",
   "language": "python",
   "name": "python3"
  },
  "language_info": {
   "codemirror_mode": {
    "name": "ipython",
    "version": 3
   },
   "file_extension": ".py",
   "mimetype": "text/x-python",
   "name": "python",
   "nbconvert_exporter": "python",
   "pygments_lexer": "ipython3",
   "version": "3.11.7"
  }
 },
 "nbformat": 4,
 "nbformat_minor": 5
}
