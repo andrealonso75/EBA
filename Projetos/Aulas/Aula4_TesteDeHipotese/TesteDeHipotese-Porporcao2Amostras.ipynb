{
 "cells": [
  {
   "cell_type": "markdown",
   "id": "92b84a27-7b95-45e5-8905-3d8f2e30b854",
   "metadata": {},
   "source": [
    "# Contexto"
   ]
  },
  {
   "cell_type": "markdown",
   "id": "b3e3bd55-e2b0-4028-bb50-bfe6b892234c",
   "metadata": {},
   "source": [
    "Uma página da web foi reformulada devido a uma baixa taxa de conversão de vendas entre os visitantes. Para avaliar a eficácia da nova versão da página, foram criados dois grupos de controle distintos. O objetivo é medir o quanto a página remodelada pode ser mais atraente para os clientes e incentivar a compra durante a visita. Um conjunto de dados foi disponibilizado para ajudar a analisar o impacto da nova página."
   ]
  },
  {
   "cell_type": "markdown",
   "id": "b070b878-21d7-44bd-8a1e-22d284b60260",
   "metadata": {},
   "source": [
    "Hₒ: p = pₒ\n",
    "\n",
    "Hₐ: p ≠ pₒ\n",
    "\n",
    "Também definiremos um nível de confiança de 95%\n",
    "\n",
    "Escolhendo as variáveis.\n",
    "Para nosso teste, temos dois grupos:\n",
    "\n",
    "Um grupo de controle - Eles viram o design antigo\n",
    "\n",
    "Um grupo de tratamento (ou experimental) - Eles viram o novo design\n",
    "\n",
    "Coluna converted \n",
    "\n",
    "0 - O usuário não comprou o produto durante esta sessão de usuário\n",
    "\n",
    "1 - O usuário comprou o produto durante esta sessão de usuário"
   ]
  },
  {
   "cell_type": "markdown",
   "id": "91be5e3b-773f-4d32-ad9c-4bae9ec98f48",
   "metadata": {},
   "source": [
    "# Bibliotecas"
   ]
  },
  {
   "cell_type": "code",
   "execution_count": 11,
   "id": "8fae0900-d177-4d89-9797-9748815610e4",
   "metadata": {},
   "outputs": [],
   "source": [
    "import numpy as np\n",
    "import pandas as pd\n",
    "import scipy.stats as stats\n",
    "import statsmodels.stats.api as sms\n",
    "import matplotlib as mpl\n",
    "import matplotlib.pyplot as plt\n",
    "import seaborn as sns\n",
    "from math import ceil"
   ]
  },
  {
   "cell_type": "markdown",
   "id": "e6ac1f28-a759-4b4f-9e05-3403d5130e3b",
   "metadata": {},
   "source": [
    "# Dataset"
   ]
  },
  {
   "cell_type": "code",
   "execution_count": 9,
   "id": "81aa70e1-8af4-47cc-9260-350c9ce7b0e2",
   "metadata": {},
   "outputs": [],
   "source": [
    "df = pd.read_csv(r'C:\\Users\\Andre\\EBA\\Aula-4\\bases\\df_test.csv')"
   ]
  },
  {
   "cell_type": "code",
   "execution_count": 12,
   "id": "fabfa02d-46b3-464e-b510-205ea85a806e",
   "metadata": {},
   "outputs": [
    {
     "data": {
      "text/html": [
       "<div>\n",
       "<style scoped>\n",
       "    .dataframe tbody tr th:only-of-type {\n",
       "        vertical-align: middle;\n",
       "    }\n",
       "\n",
       "    .dataframe tbody tr th {\n",
       "        vertical-align: top;\n",
       "    }\n",
       "\n",
       "    .dataframe thead th {\n",
       "        text-align: right;\n",
       "    }\n",
       "</style>\n",
       "<table border=\"1\" class=\"dataframe\">\n",
       "  <thead>\n",
       "    <tr style=\"text-align: right;\">\n",
       "      <th></th>\n",
       "      <th>Unnamed: 0</th>\n",
       "      <th>user_id</th>\n",
       "      <th>timestamp</th>\n",
       "      <th>landing_page</th>\n",
       "      <th>converted</th>\n",
       "      <th>group</th>\n",
       "    </tr>\n",
       "  </thead>\n",
       "  <tbody>\n",
       "    <tr>\n",
       "      <th>0</th>\n",
       "      <td>281655</td>\n",
       "      <td>918193</td>\n",
       "      <td>2017-01-03 13:42:27.285433</td>\n",
       "      <td>new_page</td>\n",
       "      <td>1</td>\n",
       "      <td>treatment</td>\n",
       "    </tr>\n",
       "    <tr>\n",
       "      <th>1</th>\n",
       "      <td>7271</td>\n",
       "      <td>679658</td>\n",
       "      <td>2017-01-20 02:00:54.448676</td>\n",
       "      <td>new_page</td>\n",
       "      <td>1</td>\n",
       "      <td>treatment</td>\n",
       "    </tr>\n",
       "    <tr>\n",
       "      <th>2</th>\n",
       "      <td>269760</td>\n",
       "      <td>815158</td>\n",
       "      <td>2017-01-16 05:11:33.823264</td>\n",
       "      <td>new_page</td>\n",
       "      <td>1</td>\n",
       "      <td>treatment</td>\n",
       "    </tr>\n",
       "    <tr>\n",
       "      <th>3</th>\n",
       "      <td>158882</td>\n",
       "      <td>857307</td>\n",
       "      <td>2017-01-22 08:58:50.687626</td>\n",
       "      <td>new_page</td>\n",
       "      <td>1</td>\n",
       "      <td>treatment</td>\n",
       "    </tr>\n",
       "    <tr>\n",
       "      <th>4</th>\n",
       "      <td>153958</td>\n",
       "      <td>716896</td>\n",
       "      <td>2017-01-15 17:59:03.065352</td>\n",
       "      <td>new_page</td>\n",
       "      <td>1</td>\n",
       "      <td>treatment</td>\n",
       "    </tr>\n",
       "    <tr>\n",
       "      <th>...</th>\n",
       "      <td>...</td>\n",
       "      <td>...</td>\n",
       "      <td>...</td>\n",
       "      <td>...</td>\n",
       "      <td>...</td>\n",
       "      <td>...</td>\n",
       "    </tr>\n",
       "    <tr>\n",
       "      <th>5631</th>\n",
       "      <td>2813</td>\n",
       "      <td>848867</td>\n",
       "      <td>2017-01-03 04:37:58.815088</td>\n",
       "      <td>old_page</td>\n",
       "      <td>0</td>\n",
       "      <td>control</td>\n",
       "    </tr>\n",
       "    <tr>\n",
       "      <th>5632</th>\n",
       "      <td>2814</td>\n",
       "      <td>896519</td>\n",
       "      <td>2017-01-05 18:54:30.314378</td>\n",
       "      <td>old_page</td>\n",
       "      <td>0</td>\n",
       "      <td>control</td>\n",
       "    </tr>\n",
       "    <tr>\n",
       "      <th>5633</th>\n",
       "      <td>2815</td>\n",
       "      <td>639731</td>\n",
       "      <td>2017-01-23 10:15:31.261524</td>\n",
       "      <td>old_page</td>\n",
       "      <td>0</td>\n",
       "      <td>control</td>\n",
       "    </tr>\n",
       "    <tr>\n",
       "      <th>5634</th>\n",
       "      <td>2816</td>\n",
       "      <td>788990</td>\n",
       "      <td>2017-01-10 12:51:44.488371</td>\n",
       "      <td>old_page</td>\n",
       "      <td>0</td>\n",
       "      <td>control</td>\n",
       "    </tr>\n",
       "    <tr>\n",
       "      <th>5635</th>\n",
       "      <td>2817</td>\n",
       "      <td>838038</td>\n",
       "      <td>2017-01-06 04:44:36.435463</td>\n",
       "      <td>old_page</td>\n",
       "      <td>0</td>\n",
       "      <td>control</td>\n",
       "    </tr>\n",
       "  </tbody>\n",
       "</table>\n",
       "<p>5636 rows × 6 columns</p>\n",
       "</div>"
      ],
      "text/plain": [
       "      Unnamed: 0  user_id                   timestamp landing_page  converted  \\\n",
       "0         281655   918193  2017-01-03 13:42:27.285433     new_page          1   \n",
       "1           7271   679658  2017-01-20 02:00:54.448676     new_page          1   \n",
       "2         269760   815158  2017-01-16 05:11:33.823264     new_page          1   \n",
       "3         158882   857307  2017-01-22 08:58:50.687626     new_page          1   \n",
       "4         153958   716896  2017-01-15 17:59:03.065352     new_page          1   \n",
       "...          ...      ...                         ...          ...        ...   \n",
       "5631        2813   848867  2017-01-03 04:37:58.815088     old_page          0   \n",
       "5632        2814   896519  2017-01-05 18:54:30.314378     old_page          0   \n",
       "5633        2815   639731  2017-01-23 10:15:31.261524     old_page          0   \n",
       "5634        2816   788990  2017-01-10 12:51:44.488371     old_page          0   \n",
       "5635        2817   838038  2017-01-06 04:44:36.435463     old_page          0   \n",
       "\n",
       "          group  \n",
       "0     treatment  \n",
       "1     treatment  \n",
       "2     treatment  \n",
       "3     treatment  \n",
       "4     treatment  \n",
       "...         ...  \n",
       "5631    control  \n",
       "5632    control  \n",
       "5633    control  \n",
       "5634    control  \n",
       "5635    control  \n",
       "\n",
       "[5636 rows x 6 columns]"
      ]
     },
     "execution_count": 12,
     "metadata": {},
     "output_type": "execute_result"
    }
   ],
   "source": [
    "df"
   ]
  },
  {
   "cell_type": "markdown",
   "id": "bb2aa79f-9765-41fd-a3bf-0619baa44bc9",
   "metadata": {},
   "source": [
    "Vamos supor que o dataset esteja totalmente limpo, sem dados duplicados e a base pronta para trabalhar"
   ]
  },
  {
   "cell_type": "markdown",
   "id": "2db15051-bdf9-4149-a55f-e7a2b7733417",
   "metadata": {},
   "source": [
    "# A partir dos testes de hipótese, vamos comprovar se com o novo layout houve mudança no comportamento do usuário..."
   ]
  },
  {
   "cell_type": "markdown",
   "id": "f0445a50-77bb-4692-b548-a155b56d905e",
   "metadata": {},
   "source": [
    "Filtrando o df e criando dois diferentes, um apenas com os dados do grupo de teste (treatment) e outro com os de controle (control)"
   ]
  },
  {
   "cell_type": "code",
   "execution_count": 13,
   "id": "d79f991f-5e47-4b09-b1e8-fa0860f2bbcf",
   "metadata": {},
   "outputs": [],
   "source": [
    "\n",
    "grupo_tratamento = df[df.group == \"treatment\"]\n",
    "grupo_controle = df[df.group == \"control\"]"
   ]
  },
  {
   "cell_type": "markdown",
   "id": "2c5f10bd-4a6a-44cb-986e-6a7af670d984",
   "metadata": {},
   "source": [
    "Calculando a taxa de conversão para cada grupo (conversão = numero de pessoas que compraram o produto / total de pessoas do grupo)"
   ]
  },
  {
   "cell_type": "code",
   "execution_count": 14,
   "id": "0a9a3f1f-d67f-45d7-b121-e8432af10ed2",
   "metadata": {},
   "outputs": [
    {
     "name": "stdout",
     "output_type": "stream",
     "text": [
      "0.18985095812633074 0.12455642299503193\n"
     ]
    }
   ],
   "source": [
    "conversao_tratamento = grupo_tratamento[grupo_tratamento.converted==1].user_id.count()/grupo_tratamento.user_id.count()\n",
    "\n",
    "conversao_controle = grupo_controle[grupo_controle.converted==1].user_id.count()/grupo_controle.user_id.count()\n",
    "\n",
    "print(conversao_tratamento, conversao_controle)"
   ]
  },
  {
   "cell_type": "markdown",
   "id": "295eb514-72ae-47bd-a6a8-4ca12180ca54",
   "metadata": {},
   "source": [
    "Para o grupo tratamento tivemos uma taxa de conversão de 18.9% e para o controle 12.4%.\n",
    "\n",
    "Vimos aqui que, aparentemente, houve melhora na média. Mas será que é estatisticamente significativa?\r\n",
    "\r\n",
    "A depender do que você tem em sua amostra, escolhemos o teste a ser usado. Aqui estamos falando de uma proporção (conversão é a proporção) e, portanto, vamos usar o teste de comparação de proporções."
   ]
  },
  {
   "cell_type": "code",
   "execution_count": 15,
   "id": "757e9bf8-ceca-4381-83cb-71f929e80b24",
   "metadata": {},
   "outputs": [],
   "source": [
    "# importando a biblioteca para tirar o ztest\n",
    "from statsmodels.stats.proportion import proportions_ztest, proportion_confint"
   ]
  },
  {
   "cell_type": "code",
   "execution_count": 16,
   "id": "69253501-c76e-4e94-8c82-5851fac3ca6b",
   "metadata": {},
   "outputs": [
    {
     "name": "stdout",
     "output_type": "stream",
     "text": [
      "-6.733481162342496 1.6565111652777357e-11\n"
     ]
    }
   ],
   "source": [
    "# definimos os grupos de controle/tratamento\n",
    "control_results = grupo_controle['converted']\n",
    "treatment_results = grupo_tratamento['converted']\n",
    "\n",
    "#definimos o numero sucesso que tivemos em cada grupo, ou seja, quantos 1 tivemos em cada grupo\n",
    "\n",
    "successes = [control_results.sum(), treatment_results.sum()]\n",
    "\n",
    "# calculamos o tamanho da amostra de cada grupo (tamanho será o numero total de registros de cada grupo)\n",
    "n_con = grupo_controle.user_id.count()\n",
    "n_treat = grupo_tratamento.user_id.count()\n",
    "nobs = [n_con, n_treat] #tamanho das amostras de cada grupo\n",
    "\n",
    "z_stat,pvalue = proportions_ztest(successes, nobs=nobs) #calculamos z para o teste e seu respectivo pvalor\n",
    "print(z_stat, pvalue)"
   ]
  },
  {
   "cell_type": "markdown",
   "id": "1128f752-76ab-4116-9614-0edcad73402e",
   "metadata": {},
   "source": [
    "Nosso teste era bilateral (pois nossas hipoteses são Hₒ: p = pₒ e Hₐ: p ≠ pₒ). Lembrando que para esse caso, a zona de rejeição é z<-1.96 e z>1.96. Logo, para z=-6.73 REJEITAMOS a hipótese nula. Ou seja, as proporções não são iguais.\r\n",
    "\r\n",
    "Podemos rejeitar também pelo valor menor que 0.05 do pvalue"
   ]
  },
  {
   "cell_type": "code",
   "execution_count": 17,
   "id": "db11659c-8c6e-41ed-9bbc-0430cc4035bd",
   "metadata": {},
   "outputs": [
    {
     "name": "stdout",
     "output_type": "stream",
     "text": [
      "ci 95% for control group: [0.112, 0.137]\n",
      "ci 95% for treatment group: [0.175, 0.204]\n"
     ]
    }
   ],
   "source": [
    "(lower_con, lower_treat), (upper_con, upper_treat) = proportion_confint(successes, nobs=nobs, alpha=0.05)\n",
    "\n",
    "\n",
    "print(f'ci 95% for control group: [{lower_con:.3f}, {upper_con:.3f}]')\n",
    "print(f'ci 95% for treatment group: [{lower_treat:.3f}, {upper_treat:.3f}]')"
   ]
  },
  {
   "cell_type": "markdown",
   "id": "f7701e1c-fe0c-46fd-88e7-2b0283d0d769",
   "metadata": {},
   "source": [
    "Para decidir se temos evidencias estatisticamente significativas para rejeitar a hipótese nula, temos de avaliar os seguinte pontos:\n",
    "\n",
    "Se os Intervalos de Confiança Não se Sobrepõem:\n",
    "\n",
    "- Se os intervalos de confiança para as proporções de sucesso dos grupos de controle e tratamento não se sobrepõem, isso sugere que as proporções de sucesso são significativamente diferentes entre os grupos.\n",
    "\n",
    "Se os Intervalos de Confiança se Sobrepõem:\n",
    "\n",
    "- Você pode não ter evidências suficientes para concluir que houve uma diferença significativa na conversão entre os grupos apenas com base nos intervalos de confiança.\n",
    "- No nosso caso, os intervalos NÃO se sobrepoem logo isso sugere que, com 95% de confiança, há uma diferença significativa nas proporções de sucesso entre os grupos de controle e tratamento.\n",
    "\n"
   ]
  }
 ],
 "metadata": {
  "kernelspec": {
   "display_name": "Python 3 (ipykernel)",
   "language": "python",
   "name": "python3"
  },
  "language_info": {
   "codemirror_mode": {
    "name": "ipython",
    "version": 3
   },
   "file_extension": ".py",
   "mimetype": "text/x-python",
   "name": "python",
   "nbconvert_exporter": "python",
   "pygments_lexer": "ipython3",
   "version": "3.11.7"
  }
 },
 "nbformat": 4,
 "nbformat_minor": 5
}
